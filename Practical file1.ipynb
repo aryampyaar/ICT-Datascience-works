{
 "cells": [
  {
   "cell_type": "code",
   "execution_count": 3,
   "id": "15676473",
   "metadata": {},
   "outputs": [
    {
     "name": "stdout",
     "output_type": "stream",
     "text": [
      "enter radius: 3\n",
      "Area of circle vwith radius 3 is 28.274333882308138\n"
     ]
    }
   ],
   "source": [
    "#1\n",
    "import math\n",
    "r=int(input('enter radius: '))\n",
    "area=math.pi*r*r\n",
    "print('Area of circle vwith radius',r,'is',area)"
   ]
  },
  {
   "cell_type": "code",
   "execution_count": 2,
   "id": "00daa127",
   "metadata": {},
   "outputs": [
    {
     "name": "stdout",
     "output_type": "stream",
     "text": [
      "Name: Arya\n",
      "Roll NO: 1\n",
      "Marks: 79\n",
      "Name: Amal\n",
      "Roll NO: 2\n",
      "Marks: 85\n",
      "Name: Paathu\n",
      "Roll NO: 3\n",
      "Marks: 78\n"
     ]
    }
   ],
   "source": [
    "#2\n",
    "a=1\n",
    "while a<4:\n",
    "    Name=input('Name: ')\n",
    "    Rollno=int(input('Roll NO: '))\n",
    "    MarkS=int(input('Marks: '))\n",
    "    a=a+1"
   ]
  },
  {
   "cell_type": "code",
   "execution_count": 6,
   "id": "23e1518a",
   "metadata": {},
   "outputs": [
    {
     "name": "stdout",
     "output_type": "stream",
     "text": [
      "largest number is 89\n"
     ]
    }
   ],
   "source": [
    "#3\n",
    "list1=[1,5,7,9,45,76,43,89]\n",
    "for n in list1:\n",
    "    for i in list1:\n",
    "        if n<i:\n",
    "            break\n",
    "    else:\n",
    "        print('largest number is', n)"
   ]
  },
  {
   "cell_type": "code",
   "execution_count": 3,
   "id": "bc2214d4",
   "metadata": {},
   "outputs": [
    {
     "name": "stdout",
     "output_type": "stream",
     "text": [
      "largest number is 89\n"
     ]
    }
   ],
   "source": [
    "list1=[1,5,7,9,45,76,43,89]\n",
    "n=max(list1)\n",
    "print('largest number is', n)"
   ]
  },
  {
   "cell_type": "code",
   "execution_count": 8,
   "id": "d0a6528d",
   "metadata": {},
   "outputs": [
    {
     "name": "stdout",
     "output_type": "stream",
     "text": [
      "current number is  1\n",
      "previous number is  0\n",
      "their sum is  1\n",
      "current number is  2\n",
      "previous number is  1\n",
      "their sum is  3\n",
      "current number is  3\n",
      "previous number is  2\n",
      "their sum is  5\n",
      "current number is  4\n",
      "previous number is  3\n",
      "their sum is  7\n",
      "current number is  5\n",
      "previous number is  4\n",
      "their sum is  9\n",
      "current number is  6\n",
      "previous number is  5\n",
      "their sum is  11\n",
      "current number is  7\n",
      "previous number is  6\n",
      "their sum is  13\n",
      "current number is  8\n",
      "previous number is  7\n",
      "their sum is  15\n",
      "current number is  9\n",
      "previous number is  8\n",
      "their sum is  17\n",
      "current number is  10\n",
      "previous number is  9\n",
      "their sum is  19\n"
     ]
    }
   ],
   "source": [
    "#4\n",
    "for i in range(1,11):\n",
    "    print('current number is ',i)\n",
    "    print('previous number is ',i-1)\n",
    "    print('their sum is ',i+i-1)"
   ]
  },
  {
   "cell_type": "code",
   "execution_count": 4,
   "id": "2074aec5",
   "metadata": {},
   "outputs": [
    {
     "name": "stdout",
     "output_type": "stream",
     "text": [
      "50,55,85,"
     ]
    }
   ],
   "source": [
    "#5\n",
    "list2=[78,89,8,56,50,55,85]\n",
    "for n in list2:\n",
    "    if n%5==0:\n",
    "        print(n,end=',')"
   ]
  },
  {
   "cell_type": "code",
   "execution_count": 4,
   "id": "9b6fd75f",
   "metadata": {},
   "outputs": [
    {
     "name": "stdout",
     "output_type": "stream",
     "text": [
      "enter a positive number: 10\n",
      "10 is not a prime number\n"
     ]
    }
   ],
   "source": [
    "#6\n",
    "n=int(input('enter a positive number: '))\n",
    "if n%2==0:\n",
    "    print(n, 'is not a prime number')\n",
    "else:\n",
    "    print(n, 'is a prime number')"
   ]
  },
  {
   "cell_type": "code",
   "execution_count": 5,
   "id": "955af237",
   "metadata": {},
   "outputs": [
    {
     "name": "stdout",
     "output_type": "stream",
     "text": [
      "[9, 8, 5, 1]\n"
     ]
    }
   ],
   "source": [
    "#7\n",
    "l3=[1,5,8,9]\n",
    "list3=[]\n",
    "for n in l3:\n",
    "    list3=[n]+list3\n",
    "print(list3)"
   ]
  },
  {
   "cell_type": "code",
   "execution_count": 12,
   "id": "c7ec7051",
   "metadata": {},
   "outputs": [
    {
     "name": "stdout",
     "output_type": "stream",
     "text": [
      "enter a positive numer4\n",
      "*\n",
      "**\n",
      "***\n",
      "****\n"
     ]
    }
   ],
   "source": [
    "#8\n",
    "n=int(input('enter a positive numer'))\n",
    "i=1\n",
    "j=1\n",
    "while i<n+1:\n",
    "    while j<=i:\n",
    "        print('*',end='')\n",
    "        j=j+1\n",
    "    print('\\r')\n",
    "    j=1;i+=1"
   ]
  },
  {
   "cell_type": "code",
   "execution_count": 15,
   "id": "36f860d3",
   "metadata": {},
   "outputs": [],
   "source": [
    "#9\n",
    "def largest(*num):\n",
    "    print((max(num)),'is the largest number')"
   ]
  },
  {
   "cell_type": "code",
   "execution_count": 16,
   "id": "c8e0bff9",
   "metadata": {},
   "outputs": [
    {
     "name": "stdout",
     "output_type": "stream",
     "text": [
      "94 is the largest number\n"
     ]
    }
   ],
   "source": [
    "largest(7,89,94)"
   ]
  },
  {
   "cell_type": "code",
   "execution_count": 26,
   "id": "834c6fe9",
   "metadata": {},
   "outputs": [
    {
     "name": "stdout",
     "output_type": "stream",
     "text": [
      "*\r\n",
      "**\r\n",
      "***\r\n",
      "****\r\n",
      "*****\r\n",
      "****\r\n",
      "***\r\n",
      "**\r\n",
      "*\r\n",
      "\r\n"
     ]
    }
   ],
   "source": [
    "#10\n",
    "for i in range(1,6):\n",
    "    for j in range(0,i):\n",
    "        print('*',end='')\n",
    "    print('\\r')\n",
    "for k in range(5,0,-1):\n",
    "    for m in range(1,k):\n",
    "        print('*',end='')\n",
    "    print('\\r')"
   ]
  },
  {
   "cell_type": "code",
   "execution_count": null,
   "id": "aceb41f9",
   "metadata": {},
   "outputs": [],
   "source": []
  }
 ],
 "metadata": {
  "kernelspec": {
   "display_name": "Python 3 (ipykernel)",
   "language": "python",
   "name": "python3"
  },
  "language_info": {
   "codemirror_mode": {
    "name": "ipython",
    "version": 3
   },
   "file_extension": ".py",
   "mimetype": "text/x-python",
   "name": "python",
   "nbconvert_exporter": "python",
   "pygments_lexer": "ipython3",
   "version": "3.9.12"
  }
 },
 "nbformat": 4,
 "nbformat_minor": 5
}
